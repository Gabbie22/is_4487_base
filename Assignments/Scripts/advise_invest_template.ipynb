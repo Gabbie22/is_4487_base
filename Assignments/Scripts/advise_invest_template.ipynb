{
 "cells": [
  {
   "cell_type": "markdown",
   "metadata": {
    "colab_type": "text",
    "id": "view-in-github"
   },
   "source": [
    "<a href=\"https://colab.research.google.com/github/Stan-Pugsley/is_4487_base/blob/main/Assignments/Scripts/advise_invest_full2.ipynb\" target=\"_parent\"><img src=\"https://colab.research.google.com/assets/colab-badge.svg\" alt=\"Open In Colab\"/></a>"
   ]
  },
  {
   "cell_type": "markdown",
   "metadata": {
    "id": "p_Yu45OYdj3Y"
   },
   "source": [
    "# AdviseInvest\n",
    "\n",
    "### Outline\n",
    "\n",
    "Our Goals with this Project:\n",
    "\n",
    "1. Import and review the data\n",
    "2. Perform EDA and Clean Data\n",
    "3. Fit a model\n",
    "4. Test the accuracy of the model\n",
    "6.  Use the model to predict on a new dataset (without the target)\n",
    "\n",
    "<a href=\"https://colab.research.google.com/github/Stan-Pugsley/is_4487_base/blob/main/Assignments/Scripts/advise_invest_full.ipynb\" target=\"_parent\"><img src=\"https://colab.research.google.com/assets/colab-badge.svg\" alt=\"Open In Colab\"/></a>"
   ]
  },
  {
   "cell_type": "markdown",
   "metadata": {
    "id": "OZrtT0lUaEUT"
   },
   "source": [
    "### AdviseInvest Data Dictionary\n",
    "\n",
    "Variable    |Description |Type    |Code\n",
    "---- | ------- | ------ | -----\n",
    "Answered       | Customer response |    Binary    |0: customer did not answer scheduled call; 1: customer answered scheduled call\n",
    "Income       | Customer income in US dollars|\tNumeric\n",
    "Female       | Customer gender|\tBinary\t0: female; 1: male\n",
    "Age\t         | Age in years|\tNumeric\n",
    "Job          | Nature of job|\tCategorical|\t0 : unemployed; 1 : entry level position; 2 : midlevel position; 3 : management/ self-employed/ highly qualified employee/ officer\n",
    "Num_dependents | Number of people for whom the customer provides maintenance|\tNumeric\n",
    "Rent\t| Customer rents\t|Binary\t|0: no; 1: yes\n",
    "Own_res\t| Customer owns residence|\tBinary|\t0: no; 1: yes\n",
    "New_car| Recent new car purchase\t|Binary|\tNew car purchase in the last 3 months: 0: no, 1: yes\n",
    "Chk_acct | Checking account status\t|Categorical|\t0 : no checking account; 1: checking < 200 USD; 2 : 200 < checking < 2000 USD; 3: 2000 < checking < 35000 USD; 4: >= 3500 USD\n",
    "Sav_acct\t| Average balance in savings account|\tCategorical|\t0 : no savings account; 1 : 100 <= savings < 500 USD; 2 : 500 <= savings < 2000 USD; 3 : 2000 < savings < 35000 USD; 4: >= 3500 USD\n",
    "Num_accts\t| Number of accounts owned by customer\t|Numeric\n",
    "Mobile\t| Mobile phone\t|Binary\t|0: customer provided non‐mobile phone for follow‐up call; 1: customer provided mobile phone for follow‐up call\n",
    "Product| Type of product purchased after conversation with sales rep\t|Categorical|\t0: customer did not answer call; 1: customer answered but did not purchase a product; 2: customer answered and purchased Beginner plan; 3: customer answered and purchased Intermediate plan; 4: customer answered and purchased Advanced plan\n",
    "\n"
   ]
  },
  {
   "cell_type": "markdown",
   "metadata": {
    "id": "UE93RwXhgiJS"
   },
   "source": [
    "### Load Libraries\n",
    "\n",
    "In this class we will be using\n",
    "- Pandas\n",
    "- Scikitlearn\n",
    "- Matplotlib\n"
   ]
  },
  {
   "cell_type": "code",
   "execution_count": null,
   "metadata": {
    "id": "JYRZY5n0gfNe"
   },
   "outputs": [],
   "source": [
    "import pandas as pd\n",
    "import matplotlib as mpl\n",
    "import seaborn as sns\n",
    "\n",
    "from sklearn.model_selection import train_test_split\n",
    "from sklearn.tree import DecisionTreeClassifier, export_graphviz # Import Decision Tree Classifier\n",
    "from sklearn import metrics  #Import scikit-learn metrics module for accuracy calculation\n",
    "from sklearn.metrics import confusion_matrix\n",
    "import matplotlib.pyplot as plt\n"
   ]
  },
  {
   "cell_type": "markdown",
   "metadata": {
    "id": "bREaXo8jfu-O"
   },
   "source": [
    "## Step 1: Import Data into Dataframe\n",
    "\n",
    " - Import data from the Megatelco dataset into a dataframe (in GitHub go to Assignments > DataSets)\n",
    " - Describe or profile the dataframe\n"
   ]
  },
  {
   "cell_type": "code",
   "execution_count": null,
   "metadata": {
    "id": "6_FwprxVgR0e"
   },
   "outputs": [],
   "source": [
    "#Import the data"
   ]
  },
  {
   "cell_type": "code",
   "execution_count": null,
   "metadata": {
    "id": "0wkRD0aBa_H7"
   },
   "outputs": [],
   "source": [
    "#View the datatypes"
   ]
  },
  {
   "cell_type": "code",
   "execution_count": null,
   "metadata": {
    "id": "QkKLnfFrbEOS"
   },
   "outputs": [],
   "source": [
    "#Describe the data"
   ]
  },
  {
   "cell_type": "markdown",
   "metadata": {
    "id": "BtxOWvFlKzgE"
   },
   "source": [
    "## Step 2: Clean up the data\n",
    "- Remove the product variable.  It is not relevant to our analysis (that step is after the answer).\n",
    "- Clean up the data in a  new datafram named \"df_clean\"\n"
   ]
  },
  {
   "cell_type": "code",
   "execution_count": null,
   "metadata": {
    "id": "7KXLvMcBK8Za"
   },
   "outputs": [],
   "source": [
    "#delete outliers\n",
    "\n",
    "#remove variables that are not helpful\n",
    "\n",
    "#cleanup any missing or non-standardized data\n",
    " "
   ]
  },
  {
   "cell_type": "markdown",
   "metadata": {
    "id": "Zp7wGDqJ4iuL"
   },
   "source": [
    "### Standardize variables\n",
    "\n",
    " - Change answered to yes/no categorical\n",
    " - Convert new_car to integer"
   ]
  },
  {
   "cell_type": "code",
   "execution_count": null,
   "metadata": {
    "id": "gvMekcKg4y5X"
   },
   "outputs": [],
   "source": [
    "# Create the new variable 'answered_cat' based on the values in 'answered'\n",
    " \n",
    "\n",
    "# Convert new_car"
   ]
  },
  {
   "cell_type": "markdown",
   "metadata": {
    "id": "AuB0G9gJt7gn"
   },
   "source": [
    "### Convert variables to categorical\n",
    "\n",
    "Find at least 8 variables that would be appropriate to convert to categories\n",
    "\n",
    "Create a new categorical variable for answered"
   ]
  },
  {
   "cell_type": "code",
   "execution_count": null,
   "metadata": {
    "id": "CaT_JTHOdeoF"
   },
   "outputs": [],
   "source": [
    "#Convert"
   ]
  },
  {
   "cell_type": "markdown",
   "metadata": {
    "id": "SxpDe4NWKb3H"
   },
   "source": [
    "# Step 3: Calculate the base probability of answering\n",
    "\n",
    "If we use no model at all, how good is our chance of predicting someone leaving?"
   ]
  },
  {
   "cell_type": "code",
   "execution_count": null,
   "metadata": {
    "id": "g6JlH3TiKk16"
   },
   "outputs": [],
   "source": [
    "#get the default probability"
   ]
  },
  {
   "cell_type": "markdown",
   "metadata": {
    "id": "0kqsDDZEt4iL"
   },
   "source": [
    "# Step 4: Split the training and testing datasets\n",
    "\n",
    "- split df_clean using train_test_split function\n",
    "- all variables except answered should be in the x variable\n",
    "- answered is in the y variable\n"
   ]
  },
  {
   "cell_type": "code",
   "execution_count": null,
   "metadata": {
    "id": "b-wswJqUjsYK"
   },
   "outputs": [],
   "source": [
    "# Split data into training and testing sets\n"
   ]
  },
  {
   "cell_type": "markdown",
   "metadata": {
    "id": "SoJLJMlceORN"
   },
   "source": [
    "# Step 5: Fit a basic tree model\n",
    "\n",
    "Use all available attributes, except product"
   ]
  },
  {
   "cell_type": "code",
   "execution_count": null,
   "metadata": {
    "id": "WBH7aRXbOUf4"
   },
   "outputs": [],
   "source": [
    "#create a tree using \"entropy\" and max_depth of 4 "
   ]
  },
  {
   "cell_type": "markdown",
   "metadata": {
    "id": "kS4-f2osS0s0"
   },
   "source": [
    "### What is the accuracy?\n",
    "\n",
    "Is it better than the base probability?"
   ]
  },
  {
   "cell_type": "code",
   "execution_count": null,
   "metadata": {
    "id": "kl_KUqeqS6Nf"
   },
   "outputs": [],
   "source": [
    "#Calculate the probability for your tree"
   ]
  },
  {
   "cell_type": "markdown",
   "metadata": {
    "id": "-I66jKusS_Xe"
   },
   "source": [
    "### Create a confusion matrix\n",
    "\n",
    "This will show false positives, true positives, etc."
   ]
  },
  {
   "cell_type": "code",
   "execution_count": null,
   "metadata": {
    "id": "l_dKmgjmTGsj"
   },
   "outputs": [],
   "source": [
    "# create a basic confusion matrix\n"
   ]
  },
  {
   "cell_type": "markdown",
   "metadata": {
    "id": "K9VwS6ziiwx7"
   },
   "source": [
    "Create a more visual, interpretable version of the matrix"
   ]
  },
  {
   "cell_type": "code",
   "execution_count": null,
   "metadata": {
    "id": "z1MOx-sCi4kF"
   },
   "outputs": [],
   "source": [
    "#Hint - try using Seaborn Heatmap"
   ]
  },
  {
   "cell_type": "markdown",
   "metadata": {
    "id": "vTC161_b9kWm"
   },
   "source": [
    "# Step 6: Evaluate the Model\n",
    "\n",
    "### Calculate Profit\n",
    "\n",
    "One of the simplifying assumptions we will make in this project is that all the customers who answer the phone will purchase a product. (This assumption is actually verified by the data.) To model \"answered\" in this case is therefore equivalent to modeling \"purchased.\"\n",
    "\n",
    "There are costs and benefits in this case. We will assume that customers purchase a product for \\$100 dollars. This was the average cost of AdviseInvest products, according to the Director of Sales.  Also, as we learned in the interview, the agent time to make the sale is worth \\$25. Profit would therefore be \\$75 dollars for an answered call and a purchase. In sum:\n",
    "\n",
    "**Benefit**: True positive. The customer is predicted to answer, does answer, and purchases a product for \\$100 for a profit of 100 - 25 = \\$75.\n",
    "\n",
    "**Cost**: False positive. The customer is predicted to answer, but does not answer, so there is a loss of \\$25. (We assume the agent cannot schedule another call at the last minute, or spends the entire time slot trying to make the call.)\n",
    "\n",
    "For this exercise, we propose that customers who are not predicted to answer will not be called, so there would be no benefits and no costs for them.  "
   ]
  },
  {
   "cell_type": "code",
   "execution_count": null,
   "metadata": {
    "id": "y3BHSJu-9s8z"
   },
   "outputs": [],
   "source": [
    "# True answered * 75 -> These people purchased\n",
    "# False answered * 25 -> You can't schedule another call\n",
    " \n",
    "#Write a calcuation for the profit from your model"
   ]
  },
  {
   "cell_type": "markdown",
   "metadata": {
    "id": "GrqwIDNXmwN8"
   },
   "source": [
    "### Compare to the Default Profit\n",
    "\n",
    "How much profit (revenue - costs) could be expected if all customers are called? We can consider this a baseline case for profit since it does not require a model.\n",
    "\n",
    "In other words, to calculate profit in this baseline scenario treat the customers who answer as true positives treat the customers who do not answer as false positives."
   ]
  },
  {
   "cell_type": "code",
   "execution_count": null,
   "metadata": {
    "id": "ak1I_A2HmvUF"
   },
   "outputs": [],
   "source": [
    "#Write a calculation for the overall profit without using the model (default)"
   ]
  },
  {
   "cell_type": "markdown",
   "metadata": {
    "id": "MzLoM10Eo2j3"
   },
   "source": [
    "# Did we improve our profit using the model?  "
   ]
  }
 ],
 "metadata": {
  "colab": {
   "include_colab_link": true,
   "provenance": []
  },
  "kernelspec": {
   "display_name": "Python 3",
   "name": "python3"
  },
  "language_info": {
   "name": "python"
  }
 },
 "nbformat": 4,
 "nbformat_minor": 0
}
