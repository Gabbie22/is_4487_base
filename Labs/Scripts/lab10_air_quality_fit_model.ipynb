{
 "cells": [
  {
   "cell_type": "markdown",
   "metadata": {},
   "source": [
    "# IS 4487 Lab 10\n",
    "\n",
    "## Outline\n",
    "\n",
    "Repeat exercises from Lab 9, but with the *Air Quality Daily AQI* dataset.\n",
    "\n",
    "Your target variable is *CATEGORY*, indicating if the air is healthy.  You can focus on either the entire country, split the country in regions, or focus on just one area (ex. Utah)\n",
    "\n",
    "The AQI is divided into six categories:\n",
    "\n",
    "*Air Quality Index*\n",
    "(AQI) Values\tLevels of Health Concern\t \n",
    "0-50\t        Good\t \n",
    "51-100\t        Moderate\t \n",
    "101-150\t        Unhealthy for Sensitive Groups\t \n",
    "151 to 200\t    Unhealthy\t \n",
    "201 to 300\t    Very Unhealthy\t \n",
    "301 to 500\t    Hazardous\t \n",
    "\n",
    "<a href=\"https://colab.research.google.com/github/Stan-Pugsley/is_4487_base/blob/main/chatgpt_megatelco_reviews.ipynb\" target=\"_parent\"><img src=\"https://colab.research.google.com/assets/colab-badge.svg\" alt=\"Open In Colab\"/></a>\n"
   ]
  },
  {
   "cell_type": "markdown",
   "metadata": {},
   "source": [
    "## Load Libraries\n",
    "\n",
    "➡️ Assignment Tasks\n",
    "- Load any necessary libraries"
   ]
  },
  {
   "cell_type": "code",
   "execution_count": null,
   "metadata": {
    "vscode": {
     "languageId": "plaintext"
    }
   },
   "outputs": [],
   "source": []
  },
  {
   "cell_type": "markdown",
   "metadata": {},
   "source": [
    "## Import Data into Dataframe\n",
    "\n",
    "➡️ Assignment Tasks\n",
    "- Import data from the SuperStore retail dataset into a dataframe (in GitHub go to Labs > DataSets)\n",
    "- Describe or profile the dataframe"
   ]
  },
  {
   "cell_type": "code",
   "execution_count": null,
   "metadata": {
    "vscode": {
     "languageId": "plaintext"
    }
   },
   "outputs": [],
   "source": []
  },
  {
   "cell_type": "markdown",
   "metadata": {},
   "source": [
    "## Prepare Data\n",
    "\n",
    "➡️ Assignment Tasks\n",
    "- Create one column (true/false) for each of the Defining Parameter values\n",
    "- To keep it simple, you can focus on Salt Lake county only.  If you would like to do a national view and aggregate data, you will have to decide whether to use the min, max or mean value for AQI.    "
   ]
  },
  {
   "cell_type": "code",
   "execution_count": null,
   "metadata": {
    "vscode": {
     "languageId": "plaintext"
    }
   },
   "outputs": [],
   "source": [
    "#create columns"
   ]
  },
  {
   "cell_type": "code",
   "execution_count": null,
   "metadata": {
    "vscode": {
     "languageId": "plaintext"
    }
   },
   "outputs": [],
   "source": [
    "#filter to Salt Lake County"
   ]
  },
  {
   "cell_type": "markdown",
   "metadata": {},
   "source": [
    "## Create Tree\n",
    "\n",
    "➡️ Assignment Tasks\n",
    "- Create a classification tree to predict CATEGORY based on as many variables as you can use or derive.\n",
    "- Visualize the tree\n",
    "- Display the accuracy for the prediction"
   ]
  },
  {
   "cell_type": "code",
   "execution_count": null,
   "metadata": {
    "vscode": {
     "languageId": "plaintext"
    }
   },
   "outputs": [],
   "source": [
    "#create tree"
   ]
  },
  {
   "cell_type": "code",
   "execution_count": null,
   "metadata": {
    "vscode": {
     "languageId": "plaintext"
    }
   },
   "outputs": [],
   "source": [
    "#tree visual"
   ]
  },
  {
   "cell_type": "code",
   "execution_count": null,
   "metadata": {
    "vscode": {
     "languageId": "plaintext"
    }
   },
   "outputs": [],
   "source": [
    "#accuracy"
   ]
  },
  {
   "cell_type": "markdown",
   "metadata": {},
   "source": [
    "## OPTIONAL: Compare Air Quality\n",
    "\n",
    "➡️ Assignment Tasks\n",
    "- Download the data from 20 years prior, using this website: https://aqs.epa.gov/aqsweb/airdata/download_files.html#AQI\n",
    "- Append the new data to the previous dataframe\n",
    "- Use the year as a variable in your tree.  Is year a significant factor in predicting category?"
   ]
  },
  {
   "cell_type": "code",
   "execution_count": null,
   "metadata": {
    "vscode": {
     "languageId": "plaintext"
    }
   },
   "outputs": [],
   "source": [
    "#import, append and create new tree"
   ]
  }
 ],
 "metadata": {
  "language_info": {
   "name": "python"
  }
 },
 "nbformat": 4,
 "nbformat_minor": 2
}
