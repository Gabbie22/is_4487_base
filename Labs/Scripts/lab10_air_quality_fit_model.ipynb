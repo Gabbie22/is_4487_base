{
 "cells": [
  {
   "cell_type": "markdown",
   "metadata": {},
   "source": [
    "# IS 4487 Lab 10\n",
    "\n",
    "## Outline\n",
    "\n",
    "Repeat exercises from Lab 9, but with the *Air Quality Daily AQI* dataset.\n",
    "\n",
    "Pull the latest \"Daily AQI by County\" file from this link: https://aqs.epa.gov/aqsweb/airdata/download_files.html#AQI \n",
    "\n",
    "You have two choices for target variable:\n",
    "- *CATEGORY*, indicating if the air is healthy.  \n",
    "- *AQI\", which is the value of the air quality index\n",
    "\n",
    "You can focus on either the entire country, split the country in regions, or focus on just one area (ex. Utah).   You can reduce noise by aggregating the data to the month of season level.   \n",
    "\n",
    "Can you predict the category based on the location and time of year?  \n",
    "\n",
    "The AQI is divided into six categories:\n",
    "\n",
    "*Air Quality Index*\n",
    "\n",
    "|(AQI) Values\t|Levels of Health Concern\t        |\n",
    "|---------------|--------|\n",
    "|0-50\t        |Good\t |\n",
    "|51-100\t        |Moderate\t |\n",
    "|101-150\t    |Unhealthy for Sensitive Groups\t| \n",
    "|151 to 200\t    |Unhealthy\t |\n",
    "|201 to 300\t    |Very Unhealthy\t |\n",
    "|301 to 500\t    |Hazardous\t |\n",
    "\n",
    "<a href=\"https://colab.research.google.com/github/Stan-Pugsley/is_4487_base/blob/main/Labs/Scripts/lab10_air_quality_fit_model.ipynb\" target=\"_parent\"><img src=\"https://colab.research.google.com/assets/colab-badge.svg\" alt=\"Open In Colab\"/></a> "
   ]
  },
  {
   "cell_type": "markdown",
   "metadata": {},
   "source": [
    "## Load Libraries\n",
    "\n",
    "➡️ Assignment Tasks\n",
    "- Load any necessary libraries"
   ]
  },
  {
   "cell_type": "code",
   "execution_count": null,
   "metadata": {
    "vscode": {
     "languageId": "plaintext"
    }
   },
   "outputs": [],
   "source": []
  },
  {
   "cell_type": "markdown",
   "metadata": {},
   "source": [
    "## Import Data into Dataframe\n",
    "\n",
    "➡️ Assignment Tasks\n",
    "- Import data from the air quality dataset into a dataframe (in GitHub go to Labs > DataSets)\n",
    "- Describe or profile the dataframe"
   ]
  },
  {
   "cell_type": "code",
   "execution_count": null,
   "metadata": {
    "vscode": {
     "languageId": "plaintext"
    }
   },
   "outputs": [],
   "source": []
  },
  {
   "cell_type": "markdown",
   "metadata": {},
   "source": [
    "## Prepare Data\n",
    "\n",
    "➡️ Assignment Tasks\n",
    "- Create one dummy variable (true/false) for each of the Defining Parameter values    \n",
    "- Create variables for month and season\n",
    "- Perform any other data cleanup needed (remove outliers, nulls, etc.)\n",
    "- Select the data you would like to use in the model.  If you aggregate data, you will have to decide whether to use the min, max or mean value for AQI"
   ]
  },
  {
   "cell_type": "code",
   "execution_count": null,
   "metadata": {
    "vscode": {
     "languageId": "plaintext"
    }
   },
   "outputs": [],
   "source": [
    "#create columns"
   ]
  },
  {
   "cell_type": "code",
   "execution_count": null,
   "metadata": {
    "vscode": {
     "languageId": "plaintext"
    }
   },
   "outputs": [],
   "source": [
    "#select final columns for use"
   ]
  },
  {
   "cell_type": "markdown",
   "metadata": {},
   "source": [
    "## Create Model\n",
    "\n",
    "➡️ Assignment Tasks\n",
    "- Create either one of these two models:\n",
    "    - a simple linear regression to predict AQI based on as many variables as you can use or derive.  (for example, sklearn LinearRegression)\n",
    "    - a classification tree to predict CATEGORY\n",
    "- Visualize the correlation between the target variable and at least one of the independent variables"
   ]
  },
  {
   "cell_type": "code",
   "execution_count": null,
   "metadata": {
    "vscode": {
     "languageId": "plaintext"
    }
   },
   "outputs": [],
   "source": [
    "#create regression or classification model"
   ]
  },
  {
   "cell_type": "code",
   "execution_count": null,
   "metadata": {
    "vscode": {
     "languageId": "plaintext"
    }
   },
   "outputs": [],
   "source": [
    "#visual"
   ]
  },
  {
   "cell_type": "markdown",
   "metadata": {},
   "source": [
    "## Make a prediction\n",
    "\n",
    "➡️ Assignment Tasks\n",
    "- What would you predict the average AQI to be in the month of January?  "
   ]
  },
  {
   "cell_type": "markdown",
   "metadata": {},
   "source": [
    "## OPTIONAL: Compare Air Quality\n",
    "\n",
    "➡️ Assignment Tasks\n",
    "- Download the data from a year 20 years prior, using this website: https://aqs.epa.gov/aqsweb/airdata/download_files.html#AQI\n",
    "- Append the new data to the previous dataframe\n",
    "- Use the year as a variable in your regression.  Is year a significant factor in predicting AQI?"
   ]
  },
  {
   "cell_type": "code",
   "execution_count": null,
   "metadata": {
    "vscode": {
     "languageId": "plaintext"
    }
   },
   "outputs": [],
   "source": [
    "#import, append and create new model"
   ]
  }
 ],
 "metadata": {
  "language_info": {
   "name": "python"
  }
 },
 "nbformat": 4,
 "nbformat_minor": 2
}
