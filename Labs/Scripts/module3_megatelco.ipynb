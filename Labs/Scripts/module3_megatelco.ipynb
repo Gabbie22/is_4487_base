{
  "nbformat": 4,
  "nbformat_minor": 0,
  "metadata": {
    "colab": {
      "name": "Module3_Script_v1.2.ipynb",
      "provenance": []
    },
    "kernelspec": {
      "name": "python3",
      "display_name": "Python 3"
    },
    "language_info": {
      "name": "python"
    }
  },
  "cells": [
    {
      "cell_type": "markdown",
      "metadata": {
        "id": "p_Yu45OYdj3Y"
      },
      "source": [
        "# IS 4487 Module 3 Script\n",
        "\n",
        "## Agenda\n",
        "\n",
        " - Identify the target variable for an analysis based on the business problem.\n",
        " - Compute the mean of a binary variable.\n",
        " - Plot a numeric (or count) variable against a categorical \n",
        "    variable.\n",
        " - Calculate a count (and a proportion) for a categorical variable \n",
        "    and visualize the result into a plot.\n",
        "\n",
        "Make sure you have downloaded the data from Canvas."
      ]
    },
    {
      "cell_type": "markdown",
      "metadata": {
        "id": "UE93RwXhgiJS"
      },
      "source": [
        "##Load Libraries\n",
        "\n",
        "In this class we will be using \n",
        "- Pandas\n",
        "- Scikitlearn\n",
        "- Matplotlib\n"
      ]
    },
    {
      "cell_type": "code",
      "metadata": {
        "id": "JYRZY5n0gfNe"
      },
      "source": [
        "import pandas as pd\n",
        "import matplotlib as mpl\n",
        "import sklearn as sl"
      ],
      "execution_count": 8,
      "outputs": []
    },
    {
      "cell_type": "markdown",
      "metadata": {
        "id": "bREaXo8jfu-O"
      },
      "source": [
        "## Getting data into Pandas\n",
        "\n",
        "In this case we will load data from the statsmodels.org library\n",
        "\n",
        "See the Canvas assignments and lectures for a description of the Megatelco data\n",
        "\n",
        "**Note:** you will need to enter a code supplied by Google in the next step. \n"
      ]
    },
    {
      "cell_type": "code",
      "metadata": {
        "colab": {
          "base_uri": "https://localhost:8080/"
        },
        "id": "6_FwprxVgR0e",
        "outputId": "0a1e22f0-b6aa-4023-e018-c1d89134fe1a"
      },
      "source": [
        "from google.colab import drive \n",
        "drive.mount('/content/gdrive', force_remount=True)\n",
        "\n",
        "df = pd.read_csv (r'/content/gdrive/MyDrive/Colab Notebooks/megatelco.csv')"
      ],
      "execution_count": 9,
      "outputs": [
        {
          "output_type": "stream",
          "name": "stdout",
          "text": [
            "Mounted at /content/gdrive\n"
          ]
        }
      ]
    },
    {
      "cell_type": "code",
      "metadata": {
        "colab": {
          "base_uri": "https://localhost:8080/",
          "height": 363
        },
        "id": "gSvao0dlhlNn",
        "outputId": "bce35f31-5cb6-431b-84f1-6969d6fb8080"
      },
      "source": [
        "#look at the top rows\n",
        "df.head(10) "
      ],
      "execution_count": 10,
      "outputs": [
        {
          "output_type": "execute_result",
          "data": {
            "text/html": [
              "<div>\n",
              "<style scoped>\n",
              "    .dataframe tbody tr th:only-of-type {\n",
              "        vertical-align: middle;\n",
              "    }\n",
              "\n",
              "    .dataframe tbody tr th {\n",
              "        vertical-align: top;\n",
              "    }\n",
              "\n",
              "    .dataframe thead th {\n",
              "        text-align: right;\n",
              "    }\n",
              "</style>\n",
              "<table border=\"1\" class=\"dataframe\">\n",
              "  <thead>\n",
              "    <tr style=\"text-align: right;\">\n",
              "      <th></th>\n",
              "      <th>college</th>\n",
              "      <th>income</th>\n",
              "      <th>overage</th>\n",
              "      <th>leftover</th>\n",
              "      <th>house</th>\n",
              "      <th>handset_price</th>\n",
              "      <th>over_15mins_calls_per_month</th>\n",
              "      <th>average_call_duration</th>\n",
              "      <th>reported_satisfaction</th>\n",
              "      <th>reported_usage_level</th>\n",
              "      <th>considering_change_of_plan</th>\n",
              "      <th>leave</th>\n",
              "      <th>id</th>\n",
              "    </tr>\n",
              "  </thead>\n",
              "  <tbody>\n",
              "    <tr>\n",
              "      <th>0</th>\n",
              "      <td>one</td>\n",
              "      <td>23859</td>\n",
              "      <td>70</td>\n",
              "      <td>0</td>\n",
              "      <td>519105</td>\n",
              "      <td>154</td>\n",
              "      <td>5.0</td>\n",
              "      <td>8</td>\n",
              "      <td>low</td>\n",
              "      <td>low</td>\n",
              "      <td>yes</td>\n",
              "      <td>LEAVE</td>\n",
              "      <td>8183</td>\n",
              "    </tr>\n",
              "    <tr>\n",
              "      <th>1</th>\n",
              "      <td>zero</td>\n",
              "      <td>72466</td>\n",
              "      <td>67</td>\n",
              "      <td>16</td>\n",
              "      <td>271182</td>\n",
              "      <td>262</td>\n",
              "      <td>5.0</td>\n",
              "      <td>5</td>\n",
              "      <td>low</td>\n",
              "      <td>low</td>\n",
              "      <td>yes</td>\n",
              "      <td>LEAVE</td>\n",
              "      <td>12501</td>\n",
              "    </tr>\n",
              "    <tr>\n",
              "      <th>2</th>\n",
              "      <td>zero</td>\n",
              "      <td>30883</td>\n",
              "      <td>60</td>\n",
              "      <td>0</td>\n",
              "      <td>647281</td>\n",
              "      <td>211</td>\n",
              "      <td>3.0</td>\n",
              "      <td>8</td>\n",
              "      <td>low</td>\n",
              "      <td>low</td>\n",
              "      <td>yes</td>\n",
              "      <td>STAY</td>\n",
              "      <td>7425</td>\n",
              "    </tr>\n",
              "    <tr>\n",
              "      <th>3</th>\n",
              "      <td>one</td>\n",
              "      <td>44512</td>\n",
              "      <td>0</td>\n",
              "      <td>22</td>\n",
              "      <td>754958</td>\n",
              "      <td>232</td>\n",
              "      <td>0.0</td>\n",
              "      <td>5</td>\n",
              "      <td>low</td>\n",
              "      <td>low</td>\n",
              "      <td>no</td>\n",
              "      <td>LEAVE</td>\n",
              "      <td>13488</td>\n",
              "    </tr>\n",
              "    <tr>\n",
              "      <th>4</th>\n",
              "      <td>zero</td>\n",
              "      <td>70535</td>\n",
              "      <td>0</td>\n",
              "      <td>0</td>\n",
              "      <td>653421</td>\n",
              "      <td>310</td>\n",
              "      <td>0.0</td>\n",
              "      <td>14</td>\n",
              "      <td>low</td>\n",
              "      <td>low</td>\n",
              "      <td>yes</td>\n",
              "      <td>STAY</td>\n",
              "      <td>11389</td>\n",
              "    </tr>\n",
              "    <tr>\n",
              "      <th>5</th>\n",
              "      <td>zero</td>\n",
              "      <td>143987</td>\n",
              "      <td>0</td>\n",
              "      <td>56</td>\n",
              "      <td>896544</td>\n",
              "      <td>778</td>\n",
              "      <td>5.0</td>\n",
              "      <td>1</td>\n",
              "      <td>low</td>\n",
              "      <td>high</td>\n",
              "      <td>yes</td>\n",
              "      <td>STAY</td>\n",
              "      <td>14674</td>\n",
              "    </tr>\n",
              "    <tr>\n",
              "      <th>6</th>\n",
              "      <td>one</td>\n",
              "      <td>96668</td>\n",
              "      <td>79</td>\n",
              "      <td>24</td>\n",
              "      <td>259329</td>\n",
              "      <td>365</td>\n",
              "      <td>5.0</td>\n",
              "      <td>6</td>\n",
              "      <td>low</td>\n",
              "      <td>avg</td>\n",
              "      <td>yes</td>\n",
              "      <td>LEAVE</td>\n",
              "      <td>19100</td>\n",
              "    </tr>\n",
              "    <tr>\n",
              "      <th>7</th>\n",
              "      <td>one</td>\n",
              "      <td>50083</td>\n",
              "      <td>0</td>\n",
              "      <td>0</td>\n",
              "      <td>160335</td>\n",
              "      <td>266</td>\n",
              "      <td>5.0</td>\n",
              "      <td>10</td>\n",
              "      <td>low</td>\n",
              "      <td>high</td>\n",
              "      <td>yes</td>\n",
              "      <td>STAY</td>\n",
              "      <td>18170</td>\n",
              "    </tr>\n",
              "    <tr>\n",
              "      <th>8</th>\n",
              "      <td>one</td>\n",
              "      <td>104392</td>\n",
              "      <td>0</td>\n",
              "      <td>0</td>\n",
              "      <td>247836</td>\n",
              "      <td>778</td>\n",
              "      <td>1.0</td>\n",
              "      <td>8</td>\n",
              "      <td>high</td>\n",
              "      <td>low</td>\n",
              "      <td>no</td>\n",
              "      <td>LEAVE</td>\n",
              "      <td>3201</td>\n",
              "    </tr>\n",
              "    <tr>\n",
              "      <th>9</th>\n",
              "      <td>one</td>\n",
              "      <td>37852</td>\n",
              "      <td>0</td>\n",
              "      <td>74</td>\n",
              "      <td>264893</td>\n",
              "      <td>857</td>\n",
              "      <td>0.0</td>\n",
              "      <td>2</td>\n",
              "      <td>low</td>\n",
              "      <td>low</td>\n",
              "      <td>yes</td>\n",
              "      <td>LEAVE</td>\n",
              "      <td>12612</td>\n",
              "    </tr>\n",
              "  </tbody>\n",
              "</table>\n",
              "</div>"
            ],
            "text/plain": [
              "  college  income  overage  ...  considering_change_of_plan  leave     id\n",
              "0     one   23859       70  ...                         yes  LEAVE   8183\n",
              "1    zero   72466       67  ...                         yes  LEAVE  12501\n",
              "2    zero   30883       60  ...                         yes   STAY   7425\n",
              "3     one   44512        0  ...                          no  LEAVE  13488\n",
              "4    zero   70535        0  ...                         yes   STAY  11389\n",
              "5    zero  143987        0  ...                         yes   STAY  14674\n",
              "6     one   96668       79  ...                         yes  LEAVE  19100\n",
              "7     one   50083        0  ...                         yes   STAY  18170\n",
              "8     one  104392        0  ...                          no  LEAVE   3201\n",
              "9     one   37852        0  ...                         yes  LEAVE  12612\n",
              "\n",
              "[10 rows x 13 columns]"
            ]
          },
          "metadata": {},
          "execution_count": 10
        }
      ]
    },
    {
      "cell_type": "code",
      "metadata": {
        "colab": {
          "base_uri": "https://localhost:8080/"
        },
        "id": "AK7y336xJ3-6",
        "outputId": "e8391b04-c9a5-4c74-f276-95724ebda3b9"
      },
      "source": [
        "#look at the datatypes\n",
        "df.info()"
      ],
      "execution_count": 11,
      "outputs": [
        {
          "output_type": "stream",
          "name": "stdout",
          "text": [
            "<class 'pandas.core.frame.DataFrame'>\n",
            "RangeIndex: 5000 entries, 0 to 4999\n",
            "Data columns (total 13 columns):\n",
            " #   Column                       Non-Null Count  Dtype  \n",
            "---  ------                       --------------  -----  \n",
            " 0   college                      5000 non-null   object \n",
            " 1   income                       5000 non-null   int64  \n",
            " 2   overage                      5000 non-null   int64  \n",
            " 3   leftover                     5000 non-null   int64  \n",
            " 4   house                        5000 non-null   int64  \n",
            " 5   handset_price                5000 non-null   int64  \n",
            " 6   over_15mins_calls_per_month  4997 non-null   float64\n",
            " 7   average_call_duration        5000 non-null   int64  \n",
            " 8   reported_satisfaction        5000 non-null   object \n",
            " 9   reported_usage_level         5000 non-null   object \n",
            " 10  considering_change_of_plan   5000 non-null   object \n",
            " 11  leave                        5000 non-null   object \n",
            " 12  id                           5000 non-null   int64  \n",
            "dtypes: float64(1), int64(7), object(5)\n",
            "memory usage: 507.9+ KB\n"
          ]
        }
      ]
    },
    {
      "cell_type": "code",
      "metadata": {
        "colab": {
          "base_uri": "https://localhost:8080/",
          "height": 300
        },
        "id": "udYgkb6I3SJo",
        "outputId": "b9107ad7-1105-4ad6-bcd0-0be59ed87061"
      },
      "source": [
        "#describe the data before cleaning it\n",
        "df.describe()"
      ],
      "execution_count": 12,
      "outputs": [
        {
          "output_type": "execute_result",
          "data": {
            "text/html": [
              "<div>\n",
              "<style scoped>\n",
              "    .dataframe tbody tr th:only-of-type {\n",
              "        vertical-align: middle;\n",
              "    }\n",
              "\n",
              "    .dataframe tbody tr th {\n",
              "        vertical-align: top;\n",
              "    }\n",
              "\n",
              "    .dataframe thead th {\n",
              "        text-align: right;\n",
              "    }\n",
              "</style>\n",
              "<table border=\"1\" class=\"dataframe\">\n",
              "  <thead>\n",
              "    <tr style=\"text-align: right;\">\n",
              "      <th></th>\n",
              "      <th>income</th>\n",
              "      <th>overage</th>\n",
              "      <th>leftover</th>\n",
              "      <th>house</th>\n",
              "      <th>handset_price</th>\n",
              "      <th>over_15mins_calls_per_month</th>\n",
              "      <th>average_call_duration</th>\n",
              "      <th>id</th>\n",
              "    </tr>\n",
              "  </thead>\n",
              "  <tbody>\n",
              "    <tr>\n",
              "      <th>count</th>\n",
              "      <td>5000.000000</td>\n",
              "      <td>5000.000000</td>\n",
              "      <td>5000.000000</td>\n",
              "      <td>5000.000000</td>\n",
              "      <td>5.000000e+03</td>\n",
              "      <td>4997.000000</td>\n",
              "      <td>5000.000000</td>\n",
              "      <td>5000.000000</td>\n",
              "    </tr>\n",
              "    <tr>\n",
              "      <th>mean</th>\n",
              "      <td>79912.948400</td>\n",
              "      <td>85.119200</td>\n",
              "      <td>24.243600</td>\n",
              "      <td>493656.326600</td>\n",
              "      <td>7.876236e+02</td>\n",
              "      <td>7.744647</td>\n",
              "      <td>5.958800</td>\n",
              "      <td>10036.639400</td>\n",
              "    </tr>\n",
              "    <tr>\n",
              "      <th>std</th>\n",
              "      <td>41703.042384</td>\n",
              "      <td>85.655622</td>\n",
              "      <td>26.847496</td>\n",
              "      <td>254287.193865</td>\n",
              "      <td>2.828291e+04</td>\n",
              "      <td>8.806070</td>\n",
              "      <td>4.390417</td>\n",
              "      <td>5813.620304</td>\n",
              "    </tr>\n",
              "    <tr>\n",
              "      <th>min</th>\n",
              "      <td>-28811.000000</td>\n",
              "      <td>0.000000</td>\n",
              "      <td>0.000000</td>\n",
              "      <td>-796132.000000</td>\n",
              "      <td>1.300000e+02</td>\n",
              "      <td>0.000000</td>\n",
              "      <td>1.000000</td>\n",
              "      <td>2.000000</td>\n",
              "    </tr>\n",
              "    <tr>\n",
              "      <th>25%</th>\n",
              "      <td>41592.500000</td>\n",
              "      <td>0.000000</td>\n",
              "      <td>0.000000</td>\n",
              "      <td>260586.500000</td>\n",
              "      <td>2.190000e+02</td>\n",
              "      <td>1.000000</td>\n",
              "      <td>2.000000</td>\n",
              "      <td>4950.500000</td>\n",
              "    </tr>\n",
              "    <tr>\n",
              "      <th>50%</th>\n",
              "      <td>75041.500000</td>\n",
              "      <td>59.000000</td>\n",
              "      <td>15.000000</td>\n",
              "      <td>451865.500000</td>\n",
              "      <td>3.220000e+02</td>\n",
              "      <td>4.000000</td>\n",
              "      <td>5.000000</td>\n",
              "      <td>10126.000000</td>\n",
              "    </tr>\n",
              "    <tr>\n",
              "      <th>75%</th>\n",
              "      <td>115475.000000</td>\n",
              "      <td>177.000000</td>\n",
              "      <td>42.000000</td>\n",
              "      <td>701608.750000</td>\n",
              "      <td>5.280000e+02</td>\n",
              "      <td>14.000000</td>\n",
              "      <td>9.000000</td>\n",
              "      <td>15085.250000</td>\n",
              "    </tr>\n",
              "    <tr>\n",
              "      <th>max</th>\n",
              "      <td>159938.000000</td>\n",
              "      <td>335.000000</td>\n",
              "      <td>89.000000</td>\n",
              "      <td>1000000.000000</td>\n",
              "      <td>2.000234e+06</td>\n",
              "      <td>29.000000</td>\n",
              "      <td>15.000000</td>\n",
              "      <td>20000.000000</td>\n",
              "    </tr>\n",
              "  </tbody>\n",
              "</table>\n",
              "</div>"
            ],
            "text/plain": [
              "              income      overage  ...  average_call_duration            id\n",
              "count    5000.000000  5000.000000  ...            5000.000000   5000.000000\n",
              "mean    79912.948400    85.119200  ...               5.958800  10036.639400\n",
              "std     41703.042384    85.655622  ...               4.390417   5813.620304\n",
              "min    -28811.000000     0.000000  ...               1.000000      2.000000\n",
              "25%     41592.500000     0.000000  ...               2.000000   4950.500000\n",
              "50%     75041.500000    59.000000  ...               5.000000  10126.000000\n",
              "75%    115475.000000   177.000000  ...               9.000000  15085.250000\n",
              "max    159938.000000   335.000000  ...              15.000000  20000.000000\n",
              "\n",
              "[8 rows x 8 columns]"
            ]
          },
          "metadata": {},
          "execution_count": 12
        }
      ]
    },
    {
      "cell_type": "markdown",
      "metadata": {
        "id": "uathUi6xfDPf"
      },
      "source": [
        "## Calculate distribution of the outcome  \n",
        "\n",
        "What is the proportion of people who churned?"
      ]
    },
    {
      "cell_type": "code",
      "metadata": {
        "id": "bC93rEgNfFNh",
        "colab": {
          "base_uri": "https://localhost:8080/",
          "height": 143
        },
        "outputId": "a0afa4bb-ad21-4aa1-f17f-0178363d7509"
      },
      "source": [
        "df[['house','leave']].groupby('leave').mean().round(2) "
      ],
      "execution_count": 13,
      "outputs": [
        {
          "output_type": "execute_result",
          "data": {
            "text/html": [
              "<div>\n",
              "<style scoped>\n",
              "    .dataframe tbody tr th:only-of-type {\n",
              "        vertical-align: middle;\n",
              "    }\n",
              "\n",
              "    .dataframe tbody tr th {\n",
              "        vertical-align: top;\n",
              "    }\n",
              "\n",
              "    .dataframe thead th {\n",
              "        text-align: right;\n",
              "    }\n",
              "</style>\n",
              "<table border=\"1\" class=\"dataframe\">\n",
              "  <thead>\n",
              "    <tr style=\"text-align: right;\">\n",
              "      <th></th>\n",
              "      <th>house</th>\n",
              "    </tr>\n",
              "    <tr>\n",
              "      <th>leave</th>\n",
              "      <th></th>\n",
              "    </tr>\n",
              "  </thead>\n",
              "  <tbody>\n",
              "    <tr>\n",
              "      <th>LEAVE</th>\n",
              "      <td>438702.89</td>\n",
              "    </tr>\n",
              "    <tr>\n",
              "      <th>STAY</th>\n",
              "      <td>547435.45</td>\n",
              "    </tr>\n",
              "  </tbody>\n",
              "</table>\n",
              "</div>"
            ],
            "text/plain": [
              "           house\n",
              "leave           \n",
              "LEAVE  438702.89\n",
              "STAY   547435.45"
            ]
          },
          "metadata": {},
          "execution_count": 13
        }
      ]
    },
    {
      "cell_type": "markdown",
      "metadata": {
        "id": "SoJLJMlceORN"
      },
      "source": [
        "# Create basic charts\n",
        "\n",
        "- Bar chart\n",
        "- Histogram\n",
        "- Box plot\n",
        "- Scatter plot"
      ]
    },
    {
      "cell_type": "code",
      "metadata": {
        "colab": {
          "base_uri": "https://localhost:8080/",
          "height": 317
        },
        "id": "WBH7aRXbOUf4",
        "outputId": "1ccf9089-fd89-463d-cde7-966061c7412d"
      },
      "source": [
        "#Bar chart\n",
        "df[['house','leave']].groupby('leave').mean('house').plot.bar()\n"
      ],
      "execution_count": 14,
      "outputs": [
        {
          "output_type": "execute_result",
          "data": {
            "text/plain": [
              "<matplotlib.axes._subplots.AxesSubplot at 0x7fbfc262fe10>"
            ]
          },
          "metadata": {},
          "execution_count": 14
        },
        {
          "output_type": "display_data",
          "data": {
            "image/png": "[encoded data removed]",
            "text/plain": [
              "<Figure size 432x288 with 1 Axes>"
            ]
          },
          "metadata": {
            "needs_background": "light"
          }
        }
      ]
    },
    {
      "cell_type": "code",
      "metadata": {
        "id": "eVOSIP8SeYg3",
        "colab": {
          "base_uri": "https://localhost:8080/",
          "height": 294
        },
        "outputId": "0184ba95-c8da-4769-d571-a271581d7009"
      },
      "source": [
        "#Histogram\n",
        "hist = df['house'].plot.hist(bins=10,title='House Price (in millions)')\n"
      ],
      "execution_count": 15,
      "outputs": [
        {
          "output_type": "display_data",
          "data": {
            "image/png": "[encoded data removed]",
            "text/plain": [
              "<Figure size 432x288 with 1 Axes>"
            ]
          },
          "metadata": {
            "needs_background": "light"
          }
        }
      ]
    },
    {
      "cell_type": "code",
      "metadata": {
        "colab": {
          "base_uri": "https://localhost:8080/",
          "height": 373
        },
        "id": "SFOTNW70MbI9",
        "outputId": "d5e15ccb-f5f7-4306-9ecb-9931ba470685"
      },
      "source": [
        "#Boxplot\n",
        "df[['leave','house']].boxplot(by='leave')"
      ],
      "execution_count": 17,
      "outputs": [
        {
          "output_type": "stream",
          "name": "stderr",
          "text": [
            "/usr/local/lib/python3.7/dist-packages/numpy/core/_asarray.py:83: VisibleDeprecationWarning: Creating an ndarray from ragged nested sequences (which is a list-or-tuple of lists-or-tuples-or ndarrays with different lengths or shapes) is deprecated. If you meant to do this, you must specify 'dtype=object' when creating the ndarray\n",
            "  return array(a, dtype, copy=False, order=order)\n"
          ]
        },
        {
          "output_type": "execute_result",
          "data": {
            "text/plain": [
              "<matplotlib.axes._subplots.AxesSubplot at 0x7fbfc205ee90>"
            ]
          },
          "metadata": {},
          "execution_count": 17
        },
        {
          "output_type": "display_data",
          "data": {
            "image/png": "[encoded data removed]",
            "text/plain": [
              "<Figure size 432x288 with 1 Axes>"
            ]
          },
          "metadata": {
            "needs_background": "light"
          }
        }
      ]
    },
    {
      "cell_type": "markdown",
      "metadata": {
        "id": "YIfa0vJiMquy"
      },
      "source": [
        "# Explore Relationships\n",
        "\n",
        "How does College affect leaving?"
      ]
    },
    {
      "cell_type": "code",
      "metadata": {
        "colab": {
          "base_uri": "https://localhost:8080/",
          "height": 317
        },
        "id": "F9kP2CPAMdQy",
        "outputId": "52d65111-fa3f-460e-8381-db8fe0ea5351"
      },
      "source": [
        "#Bar chart with counts\n",
        "df[['college','leave']].groupby('leave').count().plot.bar()"
      ],
      "execution_count": 18,
      "outputs": [
        {
          "output_type": "execute_result",
          "data": {
            "text/plain": [
              "<matplotlib.axes._subplots.AxesSubplot at 0x7fbfc1ffabd0>"
            ]
          },
          "metadata": {},
          "execution_count": 18
        },
        {
          "output_type": "display_data",
          "data": {
            "image/png": "[encoded data removed]",
            "text/plain": [
              "<Figure size 432x288 with 1 Axes>"
            ]
          },
          "metadata": {
            "needs_background": "light"
          }
        }
      ]
    },
    {
      "cell_type": "code",
      "metadata": {
        "colab": {
          "base_uri": "https://localhost:8080/",
          "height": 317
        },
        "id": "TpUqqg_rND1c",
        "outputId": "b078dcc3-8183-4884-d50e-4eb363fa20f5"
      },
      "source": [
        "#Bar chart with percentage\n",
        "college_summary = df[['college','leave']].groupby('leave').count()\n",
        "\n",
        "college_summary['college'] = (college_summary['college'] / college_summary['college'].sum()) * 100\n",
        "#college_summary.head()\n",
        "college_summary.plot.bar()"
      ],
      "execution_count": 19,
      "outputs": [
        {
          "output_type": "execute_result",
          "data": {
            "text/plain": [
              "<matplotlib.axes._subplots.AxesSubplot at 0x7fbfc1ce75d0>"
            ]
          },
          "metadata": {},
          "execution_count": 19
        },
        {
          "output_type": "display_data",
          "data": {
            "image/png": "[encoded data removed]",
            "text/plain": [
              "<Figure size 432x288 with 1 Axes>"
            ]
          },
          "metadata": {
            "needs_background": "light"
          }
        }
      ]
    },
    {
      "cell_type": "markdown",
      "metadata": {
        "id": "V7Rj5IqGP0kL"
      },
      "source": [
        "### How does phone price affect leaving?"
      ]
    },
    {
      "cell_type": "code",
      "metadata": {
        "colab": {
          "base_uri": "https://localhost:8080/",
          "height": 317
        },
        "id": "rnls4KjPP4jW",
        "outputId": "74890808-8d64-41ad-dd2c-6825a1b2bd3a"
      },
      "source": [
        "#Bar chart with mean price\n",
        "handset_price_summary = df[['handset_price','leave']].groupby('leave').mean(['handset_price'])\n",
        "#handset_price_summary.head()\n",
        "\n",
        "handset_price_summary.plot.bar()"
      ],
      "execution_count": 20,
      "outputs": [
        {
          "output_type": "execute_result",
          "data": {
            "text/plain": [
              "<matplotlib.axes._subplots.AxesSubplot at 0x7fbfc1f696d0>"
            ]
          },
          "metadata": {},
          "execution_count": 20
        },
        {
          "output_type": "display_data",
          "data": {
            "image/png": "[encoded data removed]",
            "text/plain": [
              "<Figure size 432x288 with 1 Axes>"
            ]
          },
          "metadata": {
            "needs_background": "light"
          }
        }
      ]
    },
    {
      "cell_type": "markdown",
      "metadata": {
        "id": "jDzW72IVQPkW"
      },
      "source": [
        "### How about considering leaving?"
      ]
    },
    {
      "cell_type": "code",
      "metadata": {
        "colab": {
          "base_uri": "https://localhost:8080/",
          "height": 317
        },
        "id": "Ht12Gx13QSzO",
        "outputId": "b5acbd27-6149-49e6-ea67-af4a10532cbc"
      },
      "source": [
        "#Bar chart with percentage\n",
        "plan = df[['considering_change_of_plan','leave']].groupby('leave').count()\n",
        "\n",
        "plan['considering_change_of_plan'] = (plan['considering_change_of_plan'] / plan['considering_change_of_plan'].sum()) * 100\n",
        "\n",
        "plan.plot.bar()"
      ],
      "execution_count": 21,
      "outputs": [
        {
          "output_type": "execute_result",
          "data": {
            "text/plain": [
              "<matplotlib.axes._subplots.AxesSubplot at 0x7fbfc13d2a10>"
            ]
          },
          "metadata": {},
          "execution_count": 21
        },
        {
          "output_type": "display_data",
          "data": {
            "image/png": "[encoded data removed]",
            "text/plain": [
              "<Figure size 432x288 with 1 Axes>"
            ]
          },
          "metadata": {
            "needs_background": "light"
          }
        }
      ]
    },
    {
      "cell_type": "markdown",
      "source": [
        "## Create a Pair Plot"
      ],
      "metadata": {
        "id": "_SdetdcOj7po"
      }
    },
    {
      "cell_type": "code",
      "source": [
        "import seaborn as sns\n",
        "import matplotlib.pyplot as plt\n",
        "\n",
        "sns.pairplot(df, hue='leave')\n",
        "plt.show()"
      ],
      "metadata": {
        "id": "LPxN61PiiVrv"
      },
      "execution_count": null,
      "outputs": []
    }
  ]
}